{
    "cells": [
        {
            "cell_type": "code",
            "execution_count": 2,
            "metadata": {},
            "outputs": [
                {
                    "name": "stdout",
                    "output_type": "stream",
                    "text": [
                        "Requirement already up-to-date: pip in /home/jcz/anaconda3/lib/python3.6/site-packages\n",
                        "Requirement already satisfied: selenium in /home/jcz/anaconda3/lib/python3.6/site-packages\n",
                        "Requirement already satisfied: pylint in /home/jcz/anaconda3/lib/python3.6/site-packages\n",
                        "Requirement already satisfied: astroid<2.0,>=1.6 in /home/jcz/anaconda3/lib/python3.6/site-packages (from pylint)\n",
                        "Requirement already satisfied: six in /home/jcz/anaconda3/lib/python3.6/site-packages (from pylint)\n",
                        "Requirement already satisfied: isort>=4.2.5 in /home/jcz/anaconda3/lib/python3.6/site-packages (from pylint)\n",
                        "Requirement already satisfied: mccabe in /home/jcz/anaconda3/lib/python3.6/site-packages (from pylint)\n",
                        "Requirement already satisfied: lazy_object_proxy in /home/jcz/anaconda3/lib/python3.6/site-packages (from astroid<2.0,>=1.6->pylint)\n",
                        "Requirement already satisfied: wrapt in /home/jcz/anaconda3/lib/python3.6/site-packages (from astroid<2.0,>=1.6->pylint)\n",
                        "Collecting flake8\n",
                        "  Downloading flake8-3.5.0-py2.py3-none-any.whl (69kB)\n",
                        "\u001b[K    100% |████████████████████████████████| 71kB 693kB/s \n",
                        "\u001b[?25hRequirement already satisfied: mccabe<0.7.0,>=0.6.0 in /home/jcz/anaconda3/lib/python3.6/site-packages (from flake8)\n",
                        "Requirement already satisfied: pyflakes<1.7.0,>=1.5.0 in /home/jcz/anaconda3/lib/python3.6/site-packages (from flake8)\n",
                        "Requirement already satisfied: pycodestyle<2.4.0,>=2.0.0 in /home/jcz/anaconda3/lib/python3.6/site-packages (from flake8)\n",
                        "Installing collected packages: flake8\n",
                        "Successfully installed flake8-3.5.0\n",
                    ],
                }
            ],
            "source": [
                "# Install a pip package in the current Jupyter kernel\n",
                "import sys\n",
                "!{sys.executable} -m pip install --upgrade pip\n",
                "!{sys.executable} -m pip install selenium\n",
                "!{sys.executable} -m pip install pylint\n",
                "!{sys.executable} -m pip install flake8",
            ],
        },
        {
            "cell_type": "code",
            "execution_count": null,
            "metadata": {},
            "outputs": [],
            "source": [],
        },
    ],
    "metadata": {
        "kernelspec": {
            "display_name": "Python 3",
            "language": "python",
            "name": "python3",
        },
        "language_info": {
            "codemirror_mode": {"name": "ipython", "version": 3},
            "file_extension": ".py",
            "mimetype": "text/x-python",
            "name": "python",
            "nbconvert_exporter": "python",
            "pygments_lexer": "ipython3",
            "version": "3.6.4",
        },
    },
    "nbformat": 4,
    "nbformat_minor": 2,
}
