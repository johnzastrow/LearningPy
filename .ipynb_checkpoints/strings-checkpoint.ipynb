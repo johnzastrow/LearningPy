{
 "cells": [
  {
   "cell_type": "code",
   "execution_count": 7,
   "metadata": {},
   "outputs": [
    {
     "name": "stdout",
     "output_type": "stream",
     "text": [
      "Man, how does this work? Hi there! 6\n"
     ]
    }
   ],
   "source": [
    "boo = \"Hi there!\"\n",
    "x = 1\n",
    "y = 5\n",
    "z = x + y\n",
    "print(f\"Man, how does this work? {boo} {z}\")"
   ]
  },
  {
   "cell_type": "code",
   "execution_count": 16,
   "metadata": {},
   "outputs": [
    {
     "data": {
      "text/plain": [
       "'two one'"
      ]
     },
     "execution_count": 16,
     "metadata": {},
     "output_type": "execute_result"
    }
   ],
   "source": [
    "'{1} {0}'.format('one', 'two')"
   ]
  },
  {
   "cell_type": "code",
   "execution_count": 17,
   "metadata": {},
   "outputs": [
    {
     "data": {
      "text/plain": [
       "'one two'"
      ]
     },
     "execution_count": 17,
     "metadata": {},
     "output_type": "execute_result"
    }
   ],
   "source": [
    "'{0} {1}'.format('one', 'two')"
   ]
  },
  {
   "cell_type": "code",
   "execution_count": 18,
   "metadata": {},
   "outputs": [
    {
     "data": {
      "text/plain": [
       "'one two'"
      ]
     },
     "execution_count": 18,
     "metadata": {},
     "output_type": "execute_result"
    }
   ],
   "source": [
    "'{} {}'.format('one', 'two')"
   ]
  },
  {
   "cell_type": "code",
   "execution_count": 19,
   "metadata": {},
   "outputs": [
    {
     "name": "stdout",
     "output_type": "stream",
     "text": [
      "Sammy has 5 balloons.\n"
     ]
    }
   ],
   "source": [
    "print(\"Sammy has {} balloons.\".format(5))"
   ]
  },
  {
   "cell_type": "markdown",
   "metadata": {},
   "source": [
    "# Combining concepts \n",
    "Using Formatters with Multiple Placeholders\n",
    "You can use multiple pairs of curly braces when using formatters. If we’d like to add another variable substitution to the sentence above, we can do so by adding a second pair of curly braces and passing a second value into the method:"
   ]
  },
  {
   "cell_type": "code",
   "execution_count": 15,
   "metadata": {},
   "outputs": [
    {
     "name": "stdout",
     "output_type": "stream",
     "text": [
      "Sammy loves open-source software.\n"
     ]
    }
   ],
   "source": [
    "new_open_string = \"Sammy loves {} {}.\" #2 {} placeholders\n",
    "print(new_open_string.format(\"open-source\", \"software\")) #Pass 2 strings into method, separated by a comma"
   ]
  },
  {
   "cell_type": "code",
   "execution_count": 20,
   "metadata": {},
   "outputs": [
    {
     "name": "stdout",
     "output_type": "stream",
     "text": [
      "Sammy the pull request made a shark.\n"
     ]
    }
   ],
   "source": [
    "print(\"Sammy the {pr} {1} a {0}.\".format(\"shark\", \"made\", pr = \"pull request\"))"
   ]
  },
  {
   "cell_type": "markdown",
   "metadata": {},
   "source": [
    "# Specifying Type\n",
    "We can include more parameters within the curly braces of our syntax. We’ll use the format code syntax {field_name:conversion}, where field_name specifies the index number of the argument to the str.format() method that we went through in the reordering section, and conversion refers to the conversion code of the data type that you’re using with the formatter.\n",
    "\n",
    "The conversion type refers to the the single-character type code that Python uses. The codes that we’ll be using here are s for string, d to display decimal integers (10-base), and f which we’ll use to display floats with decimal places. You can read more about the Format-Specification Mini-Language through Python 3’s official documentation.\n",
    "\n",
    "Let’s look at an example where we have an integer passed through the method, but want to display it as a float by adding the f conversion type argument:"
   ]
  },
  {
   "cell_type": "code",
   "execution_count": 22,
   "metadata": {},
   "outputs": [
    {
     "name": "stdout",
     "output_type": "stream",
     "text": [
      "Sammy ate 75.000000 percent of a pizza!\n"
     ]
    }
   ],
   "source": [
    "print(\"Sammy ate {0:f} percent of a {1}!\".format(75, \"pizza\"))"
   ]
  },
  {
   "cell_type": "code",
   "execution_count": 23,
   "metadata": {},
   "outputs": [
    {
     "name": "stdout",
     "output_type": "stream",
     "text": [
      "Sammy ate 75.77 percent of a pizza!\n"
     ]
    }
   ],
   "source": [
    "print(\"Sammy ate {0:.2f} percent of a {1}!\".format(75.765367, \"pizza\"))"
   ]
  },
  {
   "cell_type": "markdown",
   "metadata": {},
   "source": [
    "# Padding Variable Substitutions\n",
    "Because the placeholders are replacement fields, you can pad or create space around an element by increasing field size through additional parameters. This can be useful when we need to organize a lot of data visually.\n",
    "\n",
    "We can add a number to indicate field size (in terms of characters) after the colon : in the curly braces of our syntax:"
   ]
  },
  {
   "cell_type": "code",
   "execution_count": 30,
   "metadata": {},
   "outputs": [
    {
     "name": "stdout",
     "output_type": "stream",
     "text": [
      "Sammy has 5.00 red balloons        !\n"
     ]
    }
   ],
   "source": [
    "print(\"Sammy has {0:4.2f} red {1:16}!\".format(5, \"balloons\"))"
   ]
  },
  {
   "cell_type": "code",
   "execution_count": 34,
   "metadata": {},
   "outputs": [
    {
     "name": "stdout",
     "output_type": "stream",
     "text": [
      "Sammy has|    5 |red| balloons        !\n"
     ]
    }
   ],
   "source": [
    "print(\"Sammy has| {0:4} |red| {1:16}!\".format(5, \"balloons\"))"
   ]
  },
  {
   "cell_type": "markdown",
   "metadata": {},
   "source": [
    "As we see, by default strings are left-justified within the field, and numbers are right-justified. You can modify this by placing an alignment code just following the colon. < will left-align the text in a field, ^ will center the text in the field, and > will right-align it.\n",
    "\n",
    "Let’s left-align the number and center the string:"
   ]
  },
  {
   "cell_type": "code",
   "execution_count": 35,
   "metadata": {},
   "outputs": [
    {
     "name": "stdout",
     "output_type": "stream",
     "text": [
      "Sammy has | 5    |red|     balloons    !\n"
     ]
    }
   ],
   "source": [
    "print(\"Sammy has | {0:<4} |red| {1:^16}!\".format(5, \"balloons\"))"
   ]
  },
  {
   "cell_type": "markdown",
   "metadata": {},
   "source": [
    "By default, when we make a field larger with formatters, Python will fill the field with whitespace characters. We can modify that to be a different character by specifying the character we want it to be directly following the colon:"
   ]
  },
  {
   "cell_type": "code",
   "execution_count": 36,
   "metadata": {},
   "outputs": [
    {
     "name": "stdout",
     "output_type": "stream",
     "text": [
      "*******Sammy********\n"
     ]
    }
   ],
   "source": [
    "print(\"{:*^20s}\".format(\"Sammy\"))"
   ]
  },
  {
   "cell_type": "markdown",
   "metadata": {},
   "source": [
    "We can use variables for both the original string and what is passed into the method :"
   ]
  },
  {
   "cell_type": "code",
   "execution_count": 37,
   "metadata": {},
   "outputs": [
    {
     "name": "stdout",
     "output_type": "stream",
     "text": [
      "Sammy has 8 balloons today!\n"
     ]
    }
   ],
   "source": [
    "sammy = \"Sammy has {} balloons today!\"\n",
    "nBalloons = 8\n",
    "print(sammy.format(nBalloons))"
   ]
  },
  {
   "cell_type": "code",
   "execution_count": 42,
   "metadata": {},
   "outputs": [
    {
     "name": "stdout",
     "output_type": "stream",
     "text": [
      "3 9 27 18\n",
      "4 16 64 32\n",
      "5 25 125 50\n",
      "6 36 216 72\n",
      "7 49 343 98\n",
      "8 64 512 128\n",
      "9 81 729 162\n",
      "10 100 1000 200\n",
      "11 121 1331 242\n",
      "12 144 1728 288\n",
      "13 169 2197 338\n",
      "14 196 2744 392\n",
      "15 225 3375 450\n",
      "16 256 4096 512\n",
      "17 289 4913 578\n",
      "18 324 5832 648\n",
      "19 361 6859 722\n"
     ]
    }
   ],
   "source": [
    "for i in range(3,20):\n",
    "    print(i, i*i, i*i*i, i*i*2)"
   ]
  },
  {
   "cell_type": "markdown",
   "metadata": {},
   "source": [
    "### we can improve this formatting for readability\n",
    "\n",
    "While the output is organized in a way, the numbers overflow into each other’s columns, making the bottom of the output less readable. If you are working with a bigger data set with many small and big numbers, this can pose a problem.\n",
    "\n",
    "Let’s use formatters to give more space to these numbers:"
   ]
  },
  {
   "cell_type": "code",
   "execution_count": 44,
   "metadata": {},
   "outputs": [
    {
     "name": "stdout",
     "output_type": "stream",
     "text": [
      "  3    9    27\n",
      "  4   16    64\n",
      "  5   25   125\n",
      "  6   36   216\n",
      "  7   49   343\n",
      "  8   64   512\n",
      "  9   81   729\n",
      " 10  100  1000\n",
      " 11  121  1331\n",
      " 12  144  1728\n"
     ]
    }
   ],
   "source": [
    "for i in range(3,13):\n",
    "    print(\"{:3d} {:4d} {:5d}\".format(i, i*i, i*i*i))"
   ]
  },
  {
   "cell_type": "code",
   "execution_count": 45,
   "metadata": {},
   "outputs": [
    {
     "name": "stdout",
     "output_type": "stream",
     "text": [
      "     3      9     27\n",
      "     4     16     64\n",
      "     5     25    125\n",
      "     6     36    216\n",
      "     7     49    343\n",
      "     8     64    512\n",
      "     9     81    729\n",
      "    10    100   1000\n",
      "    11    121   1331\n",
      "    12    144   1728\n"
     ]
    }
   ],
   "source": [
    "for i in range(3,13):\n",
    "    print(\"{:6d} {:6d} {:6d}\".format(i, i*i, i*i*i))"
   ]
  },
  {
   "cell_type": "markdown",
   "metadata": {},
   "source": [
    "You can also truncate strings"
   ]
  },
  {
   "cell_type": "code",
   "execution_count": 2,
   "metadata": {},
   "outputs": [
    {
     "data": {
      "text/plain": [
       "'xylop'"
      ]
     },
     "execution_count": 2,
     "metadata": {},
     "output_type": "execute_result"
    }
   ],
   "source": [
    "'{:.5}'.format('xylophone')"
   ]
  },
  {
   "cell_type": "code",
   "execution_count": 6,
   "metadata": {},
   "outputs": [
    {
     "data": {
      "text/plain": [
       "'-23'"
      ]
     },
     "execution_count": 6,
     "metadata": {},
     "output_type": "execute_result"
    }
   ],
   "source": [
    "'{: d}'.format((- 23))"
   ]
  },
  {
   "cell_type": "code",
   "execution_count": 4,
   "metadata": {},
   "outputs": [
    {
     "data": {
      "text/plain": [
       "'Hodor Hodor!'"
      ]
     },
     "execution_count": 4,
     "metadata": {},
     "output_type": "execute_result"
    }
   ],
   "source": [
    "data = {'first': 'Hodor', 'last': 'Hodor!'}\n",
    "'%(first)s %(last)s' % data # old way of doing it"
   ]
  },
  {
   "cell_type": "code",
   "execution_count": 7,
   "metadata": {},
   "outputs": [
    {
     "data": {
      "text/plain": [
       "'Hodor Hodor!'"
      ]
     },
     "execution_count": 7,
     "metadata": {},
     "output_type": "execute_result"
    }
   ],
   "source": [
    "data = {'first': 'Hodor', 'last': 'Hodor!'}\n",
    "'{first} {last}'.format(**data) # new way of doing it"
   ]
  },
  {
   "cell_type": "markdown",
   "metadata": {},
   "source": [
    ".format() also accepts keyword arguments.\n",
    "This operation is not available with old-style formatting."
   ]
  },
  {
   "cell_type": "code",
   "execution_count": 8,
   "metadata": {},
   "outputs": [
    {
     "data": {
      "text/plain": [
       "'Hodor Hodor!'"
      ]
     },
     "execution_count": 8,
     "metadata": {},
     "output_type": "execute_result"
    }
   ],
   "source": [
    "'{first} {last}'.format(first='Hodor', last='Hodor!')"
   ]
  },
  {
   "cell_type": "markdown",
   "metadata": {},
   "source": [
    "# Getitem and Getattr\n",
    "New style formatting allows even greater flexibility in accessing nested data structures.\n",
    "\n",
    "It supports accessing containers that support __getitem__ like for example dictionaries and lists:\n",
    "\n",
    "This operation is not available with old-style formatting."
   ]
  },
  {
   "cell_type": "code",
   "execution_count": 9,
   "metadata": {},
   "outputs": [
    {
     "data": {
      "text/plain": [
       "'23 42'"
      ]
     },
     "execution_count": 9,
     "metadata": {},
     "output_type": "execute_result"
    }
   ],
   "source": [
    "person = {'first': 'Jean-Luc', 'last': 'Picard'}\n",
    "'{p[first]} {p[last]}'.format(p=person)"
   ]
  },
  {
   "cell_type": "code",
   "execution_count": 10,
   "metadata": {},
   "outputs": [
    {
     "data": {
      "text/plain": [
       "'23 42'"
      ]
     },
     "execution_count": 10,
     "metadata": {},
     "output_type": "execute_result"
    }
   ],
   "source": [
    "data = [4, 8, 15, 16, 23, 42]\n",
    "'{d[4]} {d[5]}'.format(d=data)"
   ]
  },
  {
   "cell_type": "code",
   "execution_count": 6,
   "metadata": {},
   "outputs": [
    {
     "data": {
      "image/png": "[encoded data removed]",
      "text/plain": [
       "<matplotlib.figure.Figure at 0x7f5964790550>"
      ]
     },
     "metadata": {},
     "output_type": "display_data"
    }
   ],
   "source": [
    "import matplotlib.pyplot as plt\n",
    "import numpy as np\n",
    "\n",
    "x = np.arange(80)\n",
    "y = [x_i + np.random.randn(1) for x_i in x]\n",
    "a, b = np.polyfit(x, y, 1)\n",
    "_ = plt.plot(x, y, 'o', np.arange(80), a*np.arange(80)+b, '-')"
   ]
  },
  {
   "cell_type": "code",
   "execution_count": 16,
   "metadata": {},
   "outputs": [
    {
     "data": {
      "image/png": "[encoded data removed]",
      "text/plain": [
       "<matplotlib.figure.Figure at 0x7f59646b4278>"
      ]
     },
     "metadata": {},
     "output_type": "display_data"
    }
   ],
   "source": [
    "# Only needs to be run once at the top of the notebook.\n",
    "!pip install -q matplotlib-venn\n",
    "\n",
    "# Now the newly-installed library can be used anywhere else in the notebook.\n",
    "from matplotlib_venn import venn2\n",
    "_ = venn2(subsets = (3,6, 4))"
   ]
  },
  {
   "cell_type": "code",
   "execution_count": null,
   "metadata": {},
   "outputs": [],
   "source": []
  }
 ],
 "metadata": {
  "kernelspec": {
   "display_name": "Python 3",
   "language": "python",
   "name": "python3"
  },
  "language_info": {
   "codemirror_mode": {
    "name": "ipython",
    "version": 3
   },
   "file_extension": ".py",
   "mimetype": "text/x-python",
   "name": "python",
   "nbconvert_exporter": "python",
   "pygments_lexer": "ipython3",
   "version": "3.6.4"
  }
 },
 "nbformat": 4,
 "nbformat_minor": 2
}
